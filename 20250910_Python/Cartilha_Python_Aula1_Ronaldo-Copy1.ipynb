{
 "cells": [
  {
   "cell_type": "markdown",
   "id": "83d218ef-7e48-4fe2-9e33-6400f512d50f",
   "metadata": {},
   "source": [
    "# Título nível 1\n",
    "## Título nível 2\n"
   ]
  },
  {
   "cell_type": "code",
   "execution_count": 1,
   "id": "de0ad550-50f2-4979-9d4a-0318fd962f7b",
   "metadata": {},
   "outputs": [
    {
     "name": "stdout",
     "output_type": "stream",
     "text": [
      "Olá Mundo\n"
     ]
    }
   ],
   "source": [
    "print(\"Olá Mundo\")"
   ]
  },
  {
   "cell_type": "markdown",
   "id": "5158ce57-82aa-4916-a163-edf5e54ecef3",
   "metadata": {},
   "source": [
    "## Revisão: Strings"
   ]
  },
  {
   "cell_type": "code",
   "execution_count": 2,
   "id": "0ac12931-a7f0-4eec-8e7b-5cdc91da7a9d",
   "metadata": {},
   "outputs": [
    {
     "name": "stdout",
     "output_type": "stream",
     "text": [
      "eu sou uma string, preciso estar entre aspas\n",
      "aspas simples e aspas duplas funcionam\n"
     ]
    }
   ],
   "source": [
    "print(\"eu sou uma string, preciso estar entre aspas\")\n",
    "print('aspas simples e aspas duplas funcionam')"
   ]
  },
  {
   "cell_type": "markdown",
   "id": "7c3bfc0b-fa10-4abf-b168-08c3462b3ffa",
   "metadata": {},
   "source": [
    "# eu sou um comentário\n",
    "# utilize \\n para quebras de linhas dentro de uma string\n",
    "\n",
    "print(\"Este texto\\n será quebrado \\n em várias \\nlinhas\")"
   ]
  },
  {
   "cell_type": "code",
   "execution_count": 4,
   "id": "09310db2-fb42-4c79-b6e0-bbd5df508b3d",
   "metadata": {
    "jp-MarkdownHeadingCollapsed": true
   },
   "outputs": [
    {
     "name": "stdout",
     "output_type": "stream",
     "text": [
      " Olá \" Eu sou um texto pré-formatado\n",
      "            vou aparecer na tela\n",
      "\n",
      "            exatamente \n",
      "\n",
      "            do jeito que você escreveu \n"
     ]
    }
   ],
   "source": [
    "# podemos fazer um texto pré-formatado com 3 aspas.\n",
    "\n",
    "print(\"\"\" Olá \" Eu sou um texto pré-formatado\n",
    "            vou aparecer na tela\n",
    "\n",
    "            exatamente \n",
    "\n",
    "            do jeito que você escreveu \"\"\")\n",
    "            "
   ]
  },
  {
   "cell_type": "markdown",
   "id": "628d01e5-2443-4346-9c28-96fea521dc46",
   "metadata": {},
   "source": [
    "## Concatenando strings"
   ]
  },
  {
   "cell_type": "code",
   "execution_count": 5,
   "id": "da623bff-0bbe-4564-a807-605cb918ed86",
   "metadata": {},
   "outputs": [
    {
     "name": "stdout",
     "output_type": "stream",
     "text": [
      "Concatenandostring\n"
     ]
    }
   ],
   "source": [
    "print(\"Concatenando\" + \"string\")"
   ]
  },
  {
   "cell_type": "code",
   "execution_count": 6,
   "id": "b2a936b5-2d30-465f-93d3-03c4c01bcaed",
   "metadata": {},
   "outputs": [
    {
     "name": "stdout",
     "output_type": "stream",
     "text": [
      "Concatenando stringprecisa colocar espaços\n"
     ]
    }
   ],
   "source": [
    "print(\"Concatenando \" + \"string\"+ \"precisa colocar \" + \"espaços\" )"
   ]
  },
  {
   "cell_type": "markdown",
   "id": "1e10b67b-b8a4-4d45-bf2f-137b80f92e18",
   "metadata": {},
   "source": [
    "## Concatenar com vírgulas não precisa colocar espaços"
   ]
  },
  {
   "cell_type": "code",
   "execution_count": 9,
   "id": "59c10710-e689-4834-9824-164b87380c4d",
   "metadata": {},
   "outputs": [
    {
     "name": "stdout",
     "output_type": "stream",
     "text": [
      "Concatenando string precisa colocar espaços\n"
     ]
    }
   ],
   "source": [
    "print(\"Concatenando\",\"string\",\"precisa colocar\",\"espaços\" )"
   ]
  },
  {
   "cell_type": "markdown",
   "id": "4eb4e6bd-4d68-4b18-8f98-1212073891c9",
   "metadata": {},
   "source": [
    "## Operações aritméticas "
   ]
  },
  {
   "cell_type": "code",
   "execution_count": 11,
   "id": "66a86ac7-3cc3-461d-b68e-1e95b9bcab44",
   "metadata": {},
   "outputs": [
    {
     "name": "stdout",
     "output_type": "stream",
     "text": [
      "99\n"
     ]
    }
   ],
   "source": [
    "print(\"9\" + \"9\")"
   ]
  },
  {
   "cell_type": "code",
   "execution_count": 10,
   "id": "766fd21e-7641-426f-8313-5295547b535b",
   "metadata": {},
   "outputs": [
    {
     "name": "stdout",
     "output_type": "stream",
     "text": [
      "18\n"
     ]
    }
   ],
   "source": [
    "print (9 + 9)"
   ]
  },
  {
   "cell_type": "code",
   "execution_count": 12,
   "id": "5732f29a-4725-464f-9ca7-3e440cbd7d2f",
   "metadata": {},
   "outputs": [
    {
     "name": "stdout",
     "output_type": "stream",
     "text": [
      "10.0\n"
     ]
    }
   ],
   "source": [
    "print( 5+(5*(5/5)))"
   ]
  }
 ],
 "metadata": {
  "kernelspec": {
   "display_name": "Python [conda env:base] *",
   "language": "python",
   "name": "conda-base-py"
  },
  "language_info": {
   "codemirror_mode": {
    "name": "ipython",
    "version": 3
   },
   "file_extension": ".py",
   "mimetype": "text/x-python",
   "name": "python",
   "nbconvert_exporter": "python",
   "pygments_lexer": "ipython3",
   "version": "3.13.5"
  }
 },
 "nbformat": 4,
 "nbformat_minor": 5
}
