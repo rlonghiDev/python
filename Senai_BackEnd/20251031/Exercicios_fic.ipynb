{
 "cells": [
  {
   "cell_type": "markdown",
   "metadata": {
    "id": "7cSjkBggT5jc"
   },
   "source": [
    "# **Exercício 1:**\n",
    "\n",
    "---\n",
    "\n",
    "Faça um programa que calcule a raiz quadrada de um número inteiro fornecido pelo usuário.\n",
    "Utilize a biblioteca *math* para realizar o cálculo.\n",
    "\n",
    "[Link para a Documentação do math](https://docs.python.org/pt-br/3/library/tk.html)\n",
    "\n"
   ]
  },
  {
   "cell_type": "code",
   "execution_count": null,
   "metadata": {
    "colab": {
     "base_uri": "https://localhost:8080/"
    },
    "executionInfo": {
     "elapsed": 2854,
     "status": "ok",
     "timestamp": 1760196711022,
     "user": {
      "displayName": "Ronaldo Longhi",
      "userId": "15633337517455469121"
     },
     "user_tz": 180
    },
    "id": "Z_bnJxYGT0_o",
    "outputId": "0271fc19-e6a4-484b-9916-37d74ca47dfb"
   },
   "outputs": [
    {
     "name": "stdout",
     "output_type": "stream",
     "text": [
      "Digite o número inteiro que desejar saber a raiz quadrada4\n",
      "A raiz quadrada de 4 é 2.0\n"
     ]
    }
   ],
   "source": [
    "import math\n",
    "# faça o código aqui #\n",
    "\n",
    "numero = int(input(\"Digite o número inteiro que desejar saber a raiz quadrada\\n\"))\n",
    "\n",
    "raiz = round(math.sqrt(numero),3)\n",
    "\n",
    "print(f\"A raiz quadrada de {numero} é {raiz}\")\n"
   ]
  },
  {
   "cell_type": "markdown",
   "metadata": {
    "id": "Sa1-LWktUG_z"
   },
   "source": [
    "# **Exercício 2:**\n",
    "\n",
    "---\n",
    "\n",
    "Crie um programa que gere um número aleatório entre 1 e 100 e peça ao usuário para adivinhar qual é esse número. Utilize *randint* da biblioteca *random* para gerar o número aleatório.\n",
    "\n",
    "[Link para a Documentação do random](https://docs.python.org/pt-br/3/library/random.html#random.randint)"
   ]
  },
  {
   "cell_type": "code",
   "execution_count": null,
   "metadata": {
    "colab": {
     "base_uri": "https://localhost:8080/"
    },
    "executionInfo": {
     "elapsed": 15691,
     "status": "ok",
     "timestamp": 1760197366653,
     "user": {
      "displayName": "Ronaldo Longhi",
      "userId": "15633337517455469121"
     },
     "user_tz": 180
    },
    "id": "9iOJpg0_ULDC",
    "outputId": "0ee963d6-5e13-41cd-980e-aa68d63a8106"
   },
   "outputs": [
    {
     "name": "stdout",
     "output_type": "stream",
     "text": [
      "Digite o número que está oculto no programa .... de 1 a 100\n",
      "55\n",
      "Digite um número maior\n",
      "80\n",
      "Digite um número maior\n",
      "90\n",
      "Digite um número menor\n",
      "87\n",
      "O número oculto é 87, parabéns !!!\n",
      "Você acertou !!!\n"
     ]
    }
   ],
   "source": [
    "import random\n",
    "# faça o código aqui #\n",
    "\n",
    "oculto = random.randint(1,100)\n",
    "numero = int(input(\"Digite o número que está oculto no programa .... de 1 a 100\\n\"))\n",
    "\n",
    "if oculto == numero:\n",
    "  print(\"Acertou de primeira !! \\nParabéns !!!!\")\n",
    "\n",
    "while oculto != numero:\n",
    "  if oculto > 1000:\n",
    "    print(\"Programa finalizado pelo usuário\")\n",
    "    break\n",
    "\n",
    "  if oculto > numero:\n",
    "    numero = int(input(\"Digite um número maior\\n\"))\n",
    "\n",
    "  if oculto < numero:\n",
    "    numero = int(input(\"Digite um número menor\\n\"))\n",
    "\n",
    "if oculto == numero:\n",
    "  print(f\"O número oculto é {oculto}, parabéns !!!\\nVocê acertou !!!\")\n"
   ]
  },
  {
   "cell_type": "markdown",
   "metadata": {
    "id": "vrAwGLX3UXLq"
   },
   "source": [
    "# **Exercício 3:**\n",
    "\n",
    "---\n",
    "Crie um programa que solicite ao usuário um nome de arquivo e, em seguida, leia o conteúdo desse arquivo e conte quantas palavras diferentes existem no texto. Utilize *Counter* da biblioteca *collections* para ajudar na contagem.\n",
    "\n",
    "[Link para a Documentação do collections](https://docs.python.org/3/library/collections.html#counter-objects)\n",
    "\n"
   ]
  },
  {
   "cell_type": "code",
   "execution_count": null,
   "metadata": {
    "colab": {
     "base_uri": "https://localhost:8080/"
    },
    "executionInfo": {
     "elapsed": 37260,
     "status": "ok",
     "timestamp": 1760206445916,
     "user": {
      "displayName": "Ronaldo Longhi",
      "userId": "15633337517455469121"
     },
     "user_tz": 180
    },
    "id": "MmTxNWXra4Bk",
    "outputId": "60bc9f58-ab06-4de8-bf48-3230212b0b80"
   },
   "outputs": [
    {
     "name": "stdout",
     "output_type": "stream",
     "text": [
      "Esse programa cria um arquivo para testes no próximo programa\n",
      "Digite o nome do arquivo a ser criado (sem a extensão)teste\n",
      "Digite uma palavra que será acrescentada ao arquivo, para finalizar digite o número zeroazul\n",
      "Digite uma palavra que será acrescentada ao arquivo, para finalizar digite o número zeroazul\n",
      "Digite uma palavra que será acrescentada ao arquivo, para finalizar digite o número zerobranco\n",
      "Digite uma palavra que será acrescentada ao arquivo, para finalizar digite o número zeroamarelo\n",
      "Digite uma palavra que será acrescentada ao arquivo, para finalizar digite o número zeroamarelo\n",
      "Digite uma palavra que será acrescentada ao arquivo, para finalizar digite o número zeroverde\n",
      "Digite uma palavra que será acrescentada ao arquivo, para finalizar digite o número zeroverde\n",
      "Digite uma palavra que será acrescentada ao arquivo, para finalizar digite o número zero0\n",
      "As palavras digitadas serão enviadas para o arquivo\n"
     ]
    }
   ],
   "source": [
    "print(\"Esse programa cria um arquivo para testes no próximo programa\")\n",
    "nome_arquivo = input(\"Digite o nome do arquivo a ser criado (sem a extensão)\")\n",
    "\n",
    "nome_arquivo_final = nome_arquivo + '.txt'\n",
    "\n",
    "vai_pro_arquivo = '' #Inicializa variável\n",
    "\n",
    "while True:\n",
    "  palavra = input(\"Digite uma palavra que será acrescentada ao arquivo, para finalizar digite o número zero\\n\")\n",
    "\n",
    "  #Saida do looping\n",
    "  if palavra == '0':\n",
    "    print(\"As palavras digitadas serão enviadas para o arquivo\")\n",
    "    break\n",
    "\n",
    "  palavra_nova_linha = palavra + '\\n'#Acrescenta sinalização para nova linha\n",
    "\n",
    "  vai_pro_arquivo += palavra_nova_linha\n",
    "\n",
    "#Cria arquivo / apaga anterior e cria novo se tiver mesmo nome\n",
    "\n",
    "with open(nome_arquivo_final,\"w\") as arquivo:\n",
    "    arquivo.write(vai_pro_arquivo)\n",
    "\n",
    "\n",
    "\n"
   ]
  },
  {
   "cell_type": "code",
   "execution_count": null,
   "metadata": {
    "colab": {
     "base_uri": "https://localhost:8080/"
    },
    "executionInfo": {
     "elapsed": 6303,
     "status": "ok",
     "timestamp": 1760206722479,
     "user": {
      "displayName": "Ronaldo Longhi",
      "userId": "15633337517455469121"
     },
     "user_tz": 180
    },
    "id": "7x4SlXfjQcFS",
    "outputId": "628951e5-3d98-4798-a253-2ed21529e95b"
   },
   "outputs": [
    {
     "name": "stdout",
     "output_type": "stream",
     "text": [
      "Digite o nome do arquivo que será lido(sem extensão)teste\n",
      "Counter({'azul': 2, 'amarelo': 2, 'verde': 2, 'branco': 1})\n"
     ]
    }
   ],
   "source": [
    "from collections import Counter\n",
    "# faça o código aqui #\n",
    "\n",
    "nome_arquivo = input('Digite o nome do arquivo que será lido(sem extensão)')\n",
    "\n",
    "nome_arquivo_final = nome_arquivo + '.txt'\n",
    "\n",
    "\n",
    "lista = []\n",
    "with open(nome_arquivo_final, \"r\") as arquivo:\n",
    "    for linha in arquivo:\n",
    "        linha2 = linha.replace('\\n','')\n",
    "        lista.append(linha2)\n",
    "\n",
    "\n",
    "contador = Counter()\n",
    "for palavra in lista:\n",
    "    contador[palavra] += 1\n",
    "\n",
    "print(contador)\n"
   ]
  },
  {
   "cell_type": "markdown",
   "metadata": {
    "id": "RA7LpHIHUgcT"
   },
   "source": [
    "# **Exercício 4:**\n",
    "\n",
    "---\n",
    "Crie um programa usando a biblioteca *tkinter* que exiba uma janela com um botão. Quando o botão for clicado, exiba uma mensagem de saudação usando a função *messagebox.showinfo()*.\n",
    "\n",
    "[Link para a Documentação do Tkinter](https://docs.python.org/pt-br/3/library/tk.html)\n",
    "\n",
    "[Site com tutorial em português](https://www.dio.me/articles/o-que-e-e-como-utilizar-a-biblioteca-tkinter-em-python)"
   ]
  },
  {
   "cell_type": "code",
   "execution_count": 1,
   "metadata": {
    "colab": {
     "base_uri": "https://localhost:8080/",
     "height": 332
    },
    "executionInfo": {
     "elapsed": 19,
     "status": "error",
     "timestamp": 1760223796877,
     "user": {
      "displayName": "Ronaldo Longhi",
      "userId": "15633337517455469121"
     },
     "user_tz": 180
    },
    "id": "01QBl5HWU2xj",
    "outputId": "76e6cb40-2df7-4a0d-d50a-8ca8e6f2f3c1"
   },
   "outputs": [],
   "source": [
    "import tkinter as tk\n",
    "from tkinter import messagebox\n",
    "\n",
    "# faça o código aqui #\n",
    "####Funcionou no Visual Code\n",
    "\n",
    "# Função para exibir uma mensagem quando o botão for clicado\n",
    "def exibir_mensagem():\n",
    "  messagebox.showinfo(title='Saudação', message='Olá !!!! Você clicou !!!!!')\n",
    "\n",
    "# Criar uma janela\n",
    "janela = tk.Tk()\n",
    "janela.title(\"Botão Simples\")\n",
    "\n",
    "# Adicionar um botão\n",
    "botao = tk.Button(janela, text=\"Clique Aqui\", command=exibir_mensagem)\n",
    "botao.pack()\n",
    "\n",
    "# Executar o loop principal\n",
    "janela.mainloop()"
   ]
  },
  {
   "cell_type": "markdown",
   "metadata": {
    "id": "qoozLEBUZeDa"
   },
   "source": [
    "# **Exercício 5:**\n",
    "\n",
    "---\n",
    "Crie um programa que utilize a biblioteca *pandas* para ler um arquivo CSV chamado \"dados.csv\".\n",
    "\n",
    "O arquivo contém uma coluna chamada \"idade\". Calcule a média das idades utilizando o método *.mean()* e exiba o resultado.\n",
    "\n",
    "[Link para a Documentação do Pandas](https://pandas.pydata.org/docs/reference/api/pandas.read_csv.html)\n"
   ]
  },
  {
   "cell_type": "code",
   "execution_count": null,
   "metadata": {
    "id": "BzqGllCyQcFT"
   },
   "outputs": [],
   "source": [
    "# Cole o texto abaixo no seu arquivo dados.csv #\n",
    "\n",
    "idade,\n",
    "5,\n",
    "67,\n",
    "56,\n",
    "78,\n",
    "12"
   ]
  },
  {
   "cell_type": "code",
   "execution_count": 18,
   "metadata": {
    "id": "56Mo2YGCZjg5"
   },
   "outputs": [
    {
     "name": "stdout",
     "output_type": "stream",
     "text": [
      "A idade média é: 43.6\n"
     ]
    }
   ],
   "source": [
    "import pandas as pd\n",
    "\n",
    "# faça o código aqui #\n",
    "df = pd.read_csv('idade.csv', usecols=['idade'])\n",
    "\n",
    "soma = df['idade'].sum()\n",
    "items = (df.index[-1]) + 1\n",
    "\n",
    "idade_media = soma/items\n",
    "\n",
    "print(f\"A idade média é: {idade_media}\")\n"
   ]
  },
  {
   "cell_type": "markdown",
   "metadata": {
    "id": "CrGJ4bNpZkl5"
   },
   "source": [
    "# **Exercício 6:**\n",
    "\n",
    "---\n",
    "Crie um programa que utilize as bibliotecas *pandas* e *matplotlib* para ler um arquivo CSV chamado \"dados2.csv\".\n",
    "\n",
    "O arquivo contém duas colunas: \"nome\" e \"pontuacao\". Exiba um gráfico de barras utilizando o método *.bar()* do *matplotlib.pyplot*, passando os nomes como valores no eixo x e as pontuações como valores no eixo y.\n",
    "\n",
    "[Link para a Documentação do Pandas](https://pandas.pydata.org/docs/reference/api/pandas.read_csv.html)\n",
    "\n",
    "[Link para a documentação do matplotlib](https://matplotlib.org/stable/api/_as_gen/matplotlib.pyplot.bar.html)"
   ]
  },
  {
   "cell_type": "code",
   "execution_count": null,
   "metadata": {
    "id": "ZZYq1YsVQcFU"
   },
   "outputs": [],
   "source": [
    "# Cole o texto abaixo no seu arquivo dados2.csv #\n",
    "\n",
    "nome,pontuacao\n",
    "jose,120\n",
    "maria,200\n",
    "joao,300\n",
    "anderson,400\n",
    "johnny,450"
   ]
  },
  {
   "cell_type": "code",
   "execution_count": 20,
   "metadata": {
    "id": "fX2Psu7AaNBT"
   },
   "outputs": [
    {
     "data": {
      "image/png": "[encoded data removed]",
      "text/plain": [
       "<Figure size 640x480 with 1 Axes>"
      ]
     },
     "metadata": {},
     "output_type": "display_data"
    }
   ],
   "source": [
    "import pandas as pd\n",
    "import matplotlib.pyplot as plt\n",
    "\n",
    "# faça o código aqui #\n",
    "\n",
    "df = pd.read_csv(\"pontuacao.csv\")\n",
    "\n",
    "#categoria = df.columns.tolist()\n",
    "categoria = df['nome'].tolist()\n",
    "valores = df['pontuacao'].tolist()\n",
    "\n",
    "plt.bar(categoria,valores)\n",
    "\n",
    "plt.title('Gráfico de pontuação')\n",
    "plt.xlabel('Nomes')\n",
    "plt.ylabel('Pontos')\n",
    "\n",
    "plt.show()\n",
    "\n",
    "\n"
   ]
  },
  {
   "cell_type": "markdown",
   "metadata": {
    "id": "FcKEWq2RQcFU"
   },
   "source": [
    "# **Exercício 7:**\n",
    "\n",
    "---\n",
    "Crie um programa que liste todos os arquivos em um diretório específico usando os.listdir()\n",
    "\n",
    "[Link para a Documentação do OS](https://docs.python.org/pt-br/3/library/os.html)"
   ]
  },
  {
   "cell_type": "code",
   "execution_count": null,
   "metadata": {
    "id": "uaYE9KFVQcFU"
   },
   "outputs": [
    {
     "name": "stdout",
     "output_type": "stream",
     "text": [
      "Esse é o conteúdo do diretório atual:\n",
      " ['tic_tac_toe.py', 'idade.csv', 'Exercicios_fic.ipynb', 'testes.py', 'pontuacao.csv', 'unpacking.py', 'aulas_py_bkend25-main.zip', 'novo_modulo.py']\n",
      "Esse é o conteúdo do diretório de usuários:\n",
      " ['root', 'lib.usr-is-merged', 'proc', 'cdrom', 'mnt', 'debug', 'lib', 'lib32', 'boot', 'srv', 'sys', 'opt', 'home', 'bin.usr-is-merged', 'lib64', 'sbin.usr-is-merged', 'media', 'sbin', 'lost+found', 'libx32', 'usr', 'etc', 'run', 'dev', 'tmp', 'var', 'bin', 'snap']\n"
     ]
    }
   ],
   "source": [
    "import os\n",
    "from pathlib import Path\n",
    "\n",
    "# faça o código aqui #\n",
    "\n",
    "#Diretório Atual:\n",
    "\n",
    "conteudo_dir = os.listdir('.')\n",
    "\n",
    "print(\"Esse é o conteúdo do diretório atual:\\n\",conteudo_dir)\n",
    "\n",
    "conteudo_raiz = os.listdir('/')#Linux\n",
    "#conteudo_raiz = os.listdir('C:\\')#Windows\n",
    "\n",
    "\n",
    "print(\"Esse é o conteúdo do diretório de usuários:\\n\",conteudo_raiz)\n",
    "\n"
   ]
  }
 ],
 "metadata": {
  "colab": {
   "provenance": [
    {
     "file_id": "1o3_XPrQmky2dDnbBysDhD14_5nmwOJSp",
     "timestamp": 1760196240405
    }
   ]
  },
  "kernelspec": {
   "display_name": "base",
   "language": "python",
   "name": "python3"
  },
  "language_info": {
   "codemirror_mode": {
    "name": "ipython",
    "version": 3
   },
   "file_extension": ".py",
   "mimetype": "text/x-python",
   "name": "python",
   "nbconvert_exporter": "python",
   "pygments_lexer": "ipython3",
   "version": "3.13.5"
  }
 },
 "nbformat": 4,
 "nbformat_minor": 0
}
